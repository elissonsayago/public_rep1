{
 "cells": [
  {
   "cell_type": "markdown",
   "id": "af75fb7f",
   "metadata": {},
   "source": [
    "# Data Science Tools and Ecosystem"
   ]
  },
  {
   "cell_type": "markdown",
   "id": "b329b5ad",
   "metadata": {},
   "source": [
    "In this notebook, Data Science Tools and Ecosystem are summarized."
   ]
  },
  {
   "cell_type": "markdown",
   "id": "b0b3e5d3",
   "metadata": {},
   "source": [
    "**Objectives:**\n",
    "\n",
    "- List popular languages for Data Science\n",
    "- List commonly used libraries used by Data Scientists\n",
    "- List Development Data Science Tools\n",
    "- Demonstrate a simple arithmetic expression"
   ]
  },
  {
   "cell_type": "markdown",
   "id": "bea55078",
   "metadata": {},
   "source": [
    "Some of the popular languages that Data Scientists use are:\n",
    "1. Python\n",
    "2. R\n",
    "3. SQL\n",
    "4. Scala\n",
    "5.Java\n",
    "6. C++\n",
    "7. Julia\n",
    "8. JavaScript\n",
    "9. PHP\n",
    "10. Go\n",
    "11. Ruby\n",
    "12. Visual Basic"
   ]
  },
  {
   "cell_type": "markdown",
   "id": "c25ec780",
   "metadata": {},
   "source": [
    "Some of the commonly used libraries used by Data Scientists include:\n",
    "1. Pandas\n",
    "2. NumPy\n",
    "3. Matplotlib\n",
    "4. Seaborn\n",
    "5. Scikit-learn\n",
    "6. Keras\n",
    "7. TensorFlow\n",
    "8. PyTorch\n",
    "9. Apache Spark\n",
    "10. Vegas\n",
    "11. Big DL\n",
    "12. Ggplot\n"
   ]
  },
  {
   "cell_type": "markdown",
   "id": "4982600a",
   "metadata": {},
   "source": [
    "| Data Science Tools |\n",
    "-----------------------------\n",
    "| Jupyter Notebooks |\n",
    "| Anaconda | \n",
    "| R Studio | \n",
    "| Spyder |\n",
    "| Zeppelin |"
   ]
  },
  {
   "cell_type": "markdown",
   "id": "c684d5ac",
   "metadata": {},
   "source": [
    "### Below are a few examples of evaluating arithmetic expressions in Python"
   ]
  },
  {
   "cell_type": "code",
   "execution_count": 1,
   "id": "65c1a364",
   "metadata": {},
   "outputs": [
    {
     "data": {
      "text/plain": [
       "17"
      ]
     },
     "execution_count": 1,
     "metadata": {},
     "output_type": "execute_result"
    }
   ],
   "source": [
    "# This a simple arithmetic expression to mutiply then add integers\n",
    "(3*4)+5\n"
   ]
  },
  {
   "cell_type": "code",
   "execution_count": 3,
   "id": "71e43047",
   "metadata": {},
   "outputs": [
    {
     "name": "stdout",
     "output_type": "stream",
     "text": [
      "Hours in 200 minutes: 3.3333333333333335\n"
     ]
    }
   ],
   "source": [
    "# This will convert 200 minutes to hours by diving by 60\n",
    "hours = 200 / 60\n",
    "print (\"Hours in 200 minutes:\",hours)"
   ]
  },
  {
   "cell_type": "markdown",
   "id": "0c2ffdf8",
   "metadata": {},
   "source": [
    "## Author\n",
    "Elisson Sayago Dias\n"
   ]
  },
  {
   "cell_type": "code",
   "execution_count": null,
   "id": "b65e360b",
   "metadata": {},
   "outputs": [],
   "source": []
  }
 ],
 "metadata": {
  "kernelspec": {
   "display_name": "Python 3 (ipykernel)",
   "language": "python",
   "name": "python3"
  },
  "language_info": {
   "codemirror_mode": {
    "name": "ipython",
    "version": 3
   },
   "file_extension": ".py",
   "mimetype": "text/x-python",
   "name": "python",
   "nbconvert_exporter": "python",
   "pygments_lexer": "ipython3",
   "version": "3.9.13"
  }
 },
 "nbformat": 4,
 "nbformat_minor": 5
}
